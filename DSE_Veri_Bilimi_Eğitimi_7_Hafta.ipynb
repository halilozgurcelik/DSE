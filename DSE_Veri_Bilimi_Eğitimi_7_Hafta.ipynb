{
  "nbformat": 4,
  "nbformat_minor": 0,
  "metadata": {
    "colab": {
      "name": "DSE Veri Bilimi Eğitimi - 7. Hafta.ipynb",
      "provenance": [],
      "collapsed_sections": [
        "AJkSQbu-mkbg",
        "gNnkw6PI7o2z"
      ]
    },
    "kernelspec": {
      "name": "python3",
      "display_name": "Python 3"
    }
  },
  "cells": [
    {
      "cell_type": "markdown",
      "metadata": {
        "id": "AJkSQbu-mkbg"
      },
      "source": [
        "# Dosya İşlemleri"
      ]
    },
    {
      "cell_type": "code",
      "metadata": {
        "id": "Srmj5wyQf8-P"
      },
      "source": [
        "#Dosya açmak\n",
        "# w write. -  dosya yoksa oluşturur ve açar varsa sadece açar\n",
        "# r read\n",
        "\n",
        "file = open(\"dosya.txt\", \"w\", encoding='utf-8')"
      ],
      "execution_count": null,
      "outputs": []
    },
    {
      "cell_type": "code",
      "metadata": {
        "id": "MXbOoOe9glJM",
        "colab": {
          "base_uri": "https://localhost:8080/"
        },
        "outputId": "57808672-f49d-4893-c19a-0e51a67b82ce"
      },
      "source": [
        "file.write(\"Python eğitimi çok harika!\")"
      ],
      "execution_count": null,
      "outputs": [
        {
          "output_type": "execute_result",
          "data": {
            "text/plain": [
              "26"
            ]
          },
          "metadata": {
            "tags": []
          },
          "execution_count": 5
        }
      ]
    },
    {
      "cell_type": "code",
      "metadata": {
        "id": "60P-li3CgmPt"
      },
      "source": [
        "#dosyayı kapatıyoruz\n",
        "file.close()"
      ],
      "execution_count": null,
      "outputs": []
    },
    {
      "cell_type": "code",
      "metadata": {
        "id": "zVwYHGpZEsDa"
      },
      "source": [
        "# Flaglar: \n",
        "# https://www.programiz.com/python-programming/file-operation"
      ],
      "execution_count": null,
      "outputs": []
    },
    {
      "cell_type": "code",
      "metadata": {
        "id": "FLtuLCAoFGBh"
      },
      "source": [
        "file = open(\"dosya.txt\",\"w\",encoding=\"utf-8\")\n",
        "file.write(\"İlk Satırım!\\n\")\n",
        "file.write(\"İkinci Satırım!\")\n",
        "file.close()"
      ],
      "execution_count": null,
      "outputs": []
    },
    {
      "cell_type": "code",
      "metadata": {
        "id": "a0Qkw-VGE8tE"
      },
      "source": [
        "try: \n",
        "  f = open(\"dosya.txt\",\"asda\")\n",
        "finally:\n",
        "  f.close()"
      ],
      "execution_count": null,
      "outputs": []
    },
    {
      "cell_type": "markdown",
      "metadata": {
        "id": "XHeWTDBy7kjP"
      },
      "source": [
        "## read"
      ]
    },
    {
      "cell_type": "code",
      "metadata": {
        "colab": {
          "base_uri": "https://localhost:8080/"
        },
        "id": "j2XYGtn7Fn_d",
        "outputId": "b2571d70-bfc6-4f30-f64d-fbe6ee3c82fe"
      },
      "source": [
        "file = open(\"dosya.txt\",\"r\",encoding=\"utf-8\")\n",
        "print(file.read())\n",
        "file.close()"
      ],
      "execution_count": null,
      "outputs": [
        {
          "output_type": "stream",
          "text": [
            "İlk Satırım!\n",
            "İkinci Satırım!\n"
          ],
          "name": "stdout"
        }
      ]
    },
    {
      "cell_type": "code",
      "metadata": {
        "colab": {
          "base_uri": "https://localhost:8080/"
        },
        "id": "_yhPmU90FyqG",
        "outputId": "eb57a08b-967c-4ca7-a388-72c275f1c935"
      },
      "source": [
        "file = open(\"dosya.txt\",\"r\",encoding=\"utf-8\")\n",
        "for line in file:\n",
        "  print(line,end=\"\")\n",
        "\n",
        "file.close()"
      ],
      "execution_count": null,
      "outputs": [
        {
          "output_type": "stream",
          "text": [
            "İlk Satırım!\n",
            "İkinci Satırım!"
          ],
          "name": "stdout"
        }
      ]
    },
    {
      "cell_type": "code",
      "metadata": {
        "id": "RE30wXMjGOwD"
      },
      "source": [
        "file = open(\"dosya.txt\",\"r\")\n",
        "for line in file:\n",
        "  print(line,end = '')\n",
        "\n",
        "\n",
        "file.close()"
      ],
      "execution_count": null,
      "outputs": []
    },
    {
      "cell_type": "code",
      "metadata": {
        "colab": {
          "base_uri": "https://localhost:8080/"
        },
        "id": "cDFcyfg6GWqX",
        "outputId": "596dda76-e946-4ad6-8486-3dfa397f9f86"
      },
      "source": [
        "file = open(\"dosya.txt\",\"r\")\n",
        "print(file.readline())\n",
        "print(file.readline())\n",
        "file.close()"
      ],
      "execution_count": null,
      "outputs": [
        {
          "output_type": "stream",
          "text": [
            "İlk Satırım!\n",
            "\n",
            "İkinci Satırım!\n",
            "\n"
          ],
          "name": "stdout"
        }
      ]
    },
    {
      "cell_type": "code",
      "metadata": {
        "colab": {
          "base_uri": "https://localhost:8080/"
        },
        "id": "JoVgzWEIGena",
        "outputId": "97efc0b8-119d-4902-e627-6510f36967c5"
      },
      "source": [
        "file = open(\"dosya.txt\",\"r\")\n",
        "print(file.readlines())\n",
        "\n",
        "file.close()"
      ],
      "execution_count": null,
      "outputs": [
        {
          "output_type": "stream",
          "text": [
            "['İlk Satırım!\\n', 'İkinci Satırım!']\n"
          ],
          "name": "stdout"
        }
      ]
    },
    {
      "cell_type": "markdown",
      "metadata": {
        "id": "gNnkw6PI7o2z"
      },
      "source": [
        "## write"
      ]
    },
    {
      "cell_type": "code",
      "metadata": {
        "colab": {
          "base_uri": "https://localhost:8080/"
        },
        "id": "OU2zWmDOGksB",
        "outputId": "8afd4f07-e612-4a9b-b235-3b79bba4b364"
      },
      "source": [
        "file = open(\"dosya.txt\",\"w+\")\n",
        "file.writelines([\"İlk Satırım 3\\n\",\"İlk Satırım 4\"])\n",
        "print(file.readlines())\n",
        "file.close()"
      ],
      "execution_count": null,
      "outputs": [
        {
          "output_type": "stream",
          "text": [
            "[]\n"
          ],
          "name": "stdout"
        }
      ]
    },
    {
      "cell_type": "code",
      "metadata": {
        "colab": {
          "base_uri": "https://localhost:8080/"
        },
        "id": "W82iPX3VG0YK",
        "outputId": "8ca70652-b19f-4d62-dd99-fb53b8e54106"
      },
      "source": [
        "file = open(\"dosya.txt\",\"w+\")\n",
        "file.writelines([\"İlk Satırım 3\",\"\\nİlk Satırım 4\"])\n",
        "print(file.tell())\n",
        "file.seek(0)\n",
        "print(file.readlines())\n",
        "file.close()"
      ],
      "execution_count": null,
      "outputs": [
        {
          "output_type": "stream",
          "text": [
            "33\n",
            "['İlk Satırım 3\\n', 'İlk Satırım 4']\n"
          ],
          "name": "stdout"
        }
      ]
    },
    {
      "cell_type": "code",
      "metadata": {
        "id": "1Z7A72AOYLj9"
      },
      "source": [
        "file = open(\"dosya.txt\",\"a\",encoding=\"utf-8\") #append\n",
        "file.write(\"\\nSon eklediğim satırım\")\n",
        "file.close()"
      ],
      "execution_count": null,
      "outputs": []
    },
    {
      "cell_type": "markdown",
      "metadata": {
        "id": "Lsks9oaP8GPm"
      },
      "source": [
        "## with"
      ]
    },
    {
      "cell_type": "code",
      "metadata": {
        "colab": {
          "base_uri": "https://localhost:8080/"
        },
        "id": "QJK1jJGv8IEp",
        "outputId": "0f4c5426-723f-49cd-e48f-887348141d23"
      },
      "source": [
        "with open(\"dosya.txt\", \"a+\", encoding=\"utf-8\") as file2:\n",
        "  file2.seek(10)\n",
        "  file2.write(\"Sonradan Eklendi\")\n",
        "  file2.seek(0)\n",
        "  print(file2.read()[:2])"
      ],
      "execution_count": null,
      "outputs": [
        {
          "output_type": "stream",
          "text": [
            "['İlk Satırım 3\\n', 'İlk Satırım 4\\n']\n"
          ],
          "name": "stdout"
        }
      ]
    },
    {
      "cell_type": "markdown",
      "metadata": {
        "id": "GLVZ9iyS-NoS"
      },
      "source": [
        "# Veritabanı İşlemleri"
      ]
    },
    {
      "cell_type": "code",
      "metadata": {
        "id": "XszeKdw48Q-X"
      },
      "source": [
        "import sqlite3"
      ],
      "execution_count": null,
      "outputs": []
    },
    {
      "cell_type": "code",
      "metadata": {
        "id": "81na0Us5-VYy"
      },
      "source": [
        "baglanti = sqlite3.connect(\"obs.db\")"
      ],
      "execution_count": null,
      "outputs": []
    },
    {
      "cell_type": "code",
      "metadata": {
        "id": "RL_PRCxZ-umu"
      },
      "source": [
        "if(baglanti):\n",
        "  cursor = baglanti.cursor()"
      ],
      "execution_count": null,
      "outputs": []
    },
    {
      "cell_type": "code",
      "metadata": {
        "colab": {
          "base_uri": "https://localhost:8080/"
        },
        "id": "iL-BRPL3_Gg5",
        "outputId": "d80304aa-f4db-4921-bb43-1fdf580b4306"
      },
      "source": [
        "#User oluştur\n",
        "\n",
        "cursor.execute(\"DROP TABLE IF EXISTS Users;\")\n",
        "\n",
        "cursor.execute('''\n",
        "CREATE TABLE IF NOT EXISTS Users(\n",
        "    Id INTEGER PRIMARY KEY AUTOINCREMENT NOT NULL,\n",
        "    Username VARCHAR(50) UNIQUE NOT NULL,\n",
        "    Password VARCHAR(100) NOT NULL,\n",
        "    Name VARCHAR(50) NOT NULL,\n",
        "    Surname VARCHAR(50) NOT NULL,\n",
        "    Policy BIT NOT NULL\n",
        ");\n",
        "''') #Policy = 1 Öğrenci, 0 Öğretmen"
      ],
      "execution_count": null,
      "outputs": [
        {
          "output_type": "execute_result",
          "data": {
            "text/plain": [
              "<sqlite3.Cursor at 0x7f9a1fdab340>"
            ]
          },
          "metadata": {
            "tags": []
          },
          "execution_count": 41
        }
      ]
    },
    {
      "cell_type": "code",
      "metadata": {
        "id": "E7qJrRaFAXQ5",
        "colab": {
          "base_uri": "https://localhost:8080/"
        },
        "outputId": "d860c502-7d1a-4d8b-feaa-25c0214df973"
      },
      "source": [
        "#Lesson oluştur\n",
        "cursor.execute(\"DROP TABLE IF EXISTS Lessons;\")\n",
        "\n",
        "cursor.execute('''\n",
        "CREATE TABLE IF NOT EXISTS Lessons(\n",
        "  Id INTEGER PRIMARY KEY AUTOINCREMENT NOT NULL,\n",
        "  Name VARCHAR(100) NOT NULL,\n",
        "  Code VARCHAR(10) UNIQUE NOT NULL\n",
        ");\n",
        "''')"
      ],
      "execution_count": null,
      "outputs": [
        {
          "output_type": "execute_result",
          "data": {
            "text/plain": [
              "<sqlite3.Cursor at 0x7f9a1fdab340>"
            ]
          },
          "metadata": {
            "tags": []
          },
          "execution_count": 42
        }
      ]
    },
    {
      "cell_type": "code",
      "metadata": {
        "id": "JnN3sKpCAth6",
        "colab": {
          "base_uri": "https://localhost:8080/"
        },
        "outputId": "75e98501-09ef-4347-c0bd-97b290141b99"
      },
      "source": [
        "# Student oluştur\n",
        "cursor.execute(\"DROP TABLE IF EXISTS StudentLessonRelations;\")\n",
        "cursor.execute('''\n",
        "CREATE TABLE IF NOT EXISTS StudentLessonRelations(\n",
        "  UserId INT NOT NULL,\n",
        "  LessonId INT NOT NULL,\n",
        "\n",
        "  FOREIGN KEY (UserId) REFERENCES Users(Id),\n",
        "  FOREIGN KEY (LessonId) REFERENCES Lessons(Id),\n",
        "  UNIQUE(UserId, LessonId)\n",
        ");\n",
        "''')"
      ],
      "execution_count": null,
      "outputs": [
        {
          "output_type": "execute_result",
          "data": {
            "text/plain": [
              "<sqlite3.Cursor at 0x7f9a1fdab340>"
            ]
          },
          "metadata": {
            "tags": []
          },
          "execution_count": 43
        }
      ]
    },
    {
      "cell_type": "code",
      "metadata": {
        "id": "U1iaNGOmBX1O",
        "colab": {
          "base_uri": "https://localhost:8080/"
        },
        "outputId": "0e2ee275-b1d0-4c45-c0ef-f6379cf4f8fa"
      },
      "source": [
        "# Lecturer oluştur\n",
        "cursor.execute(\"DROP TABLE IF EXISTS LecturerLessonRelations;\")\n",
        "cursor.execute('''\n",
        "CREATE TABLE IF NOT EXISTS LecturerLessonRelations(\n",
        "  UserId INT NOT NULL,\n",
        "  LessonId INT NOT NULL,\n",
        "\n",
        "  FOREIGN KEY (UserId) REFERENCES Users(Id),\n",
        "  FOREIGN KEY (LessonId) REFERENCES Lessons(Id),\n",
        "  UNIQUE(UserId, LessonId)\n",
        ");\n",
        "''')"
      ],
      "execution_count": null,
      "outputs": [
        {
          "output_type": "execute_result",
          "data": {
            "text/plain": [
              "<sqlite3.Cursor at 0x7f9a1fdab340>"
            ]
          },
          "metadata": {
            "tags": []
          },
          "execution_count": 44
        }
      ]
    },
    {
      "cell_type": "code",
      "metadata": {
        "id": "hnm7ju_XnmDR"
      },
      "source": [
        "baglanti.commit()"
      ],
      "execution_count": null,
      "outputs": []
    },
    {
      "cell_type": "code",
      "metadata": {
        "id": "jSaUvVxnokb_"
      },
      "source": [
        "#user ekle\n",
        "cursor.execute('''\n",
        "INSERT INTO Users(Username, Password, Name, Surname, Policy) \n",
        "VALUES('fethitekyaygil','123','Fethi','Tekyaygil',1);\n",
        "''')\n",
        "\n",
        "cursor.execute('''\n",
        "INSERT INTO Users(Username, Password, Name, Surname, Policy) \n",
        "VALUES('tahatekyaygil','123','Taha','Tekyaygil',1);\n",
        "''')\n",
        "\n",
        "\n",
        "cursor.execute('''\n",
        "INSERT INTO Users(Username, Password, Name, Surname, Policy) \n",
        "VALUES('hıdırsevinc','123','Hıdır','Sevinç',0);\n",
        "''')\n",
        "\n",
        "cursor.execute('''\n",
        "INSERT INTO Users(Username, Password, Name, Surname, Policy) \n",
        "VALUES('yesimcalik','123','Yeşim','Çalık',0);\n",
        "''')\n",
        "\n",
        "cursor.execute('''\n",
        "INSERT INTO Users(Username, Password, Name, Surname, Policy) \n",
        "VALUES('seferkurnaz','123','Sefer','Kurnaz',0);\n",
        "''')\n",
        "\n",
        "\n",
        "baglanti.commit()"
      ],
      "execution_count": null,
      "outputs": []
    },
    {
      "cell_type": "code",
      "metadata": {
        "id": "CQl81AuQsi5X"
      },
      "source": [
        "# ders ekle\n",
        "cursor.execute('''\n",
        "INSERT INTO Lessons (Name,Code)\n",
        "VALUES ('Python Programlama 101','PY101');\n",
        "''')\n",
        "\n",
        "cursor.execute('''\n",
        "INSERT INTO Lessons (Name,Code)\n",
        "VALUES ('Python Programlama 102','PY102');\n",
        "''')\n",
        "\n",
        "cursor.execute('''\n",
        "INSERT INTO Lessons (Name,Code)\n",
        "VALUES ('Matematik 101','MAT101');\n",
        "''')\n",
        "\n",
        "baglanti.commit()"
      ],
      "execution_count": null,
      "outputs": []
    },
    {
      "cell_type": "code",
      "metadata": {
        "colab": {
          "base_uri": "https://localhost:8080/"
        },
        "id": "TCR-znXMTqOn",
        "outputId": "a015cc73-6d06-4abb-ce2b-6cdc3ed99955"
      },
      "source": [
        "cursor.execute(\"SELECT * FROM Users WHERE Policy = 0\")\n",
        "\n",
        "cursor.fetchall()"
      ],
      "execution_count": null,
      "outputs": [
        {
          "output_type": "execute_result",
          "data": {
            "text/plain": [
              "[(3, 'hıdırsevinc', '123', 'Hıdır', 'Sevinç', 0),\n",
              " (4, 'yesimcalik', '123', 'Yeşim', 'Çalık', 0),\n",
              " (5, 'seferkurnaz', '123', 'Sefer', 'Kurnaz', 0)]"
            ]
          },
          "metadata": {
            "tags": []
          },
          "execution_count": 49
        }
      ]
    },
    {
      "cell_type": "code",
      "metadata": {
        "colab": {
          "base_uri": "https://localhost:8080/"
        },
        "id": "lKIEDzQMUMWW",
        "outputId": "78ebf0dd-3755-4d28-ef79-0d0d15e9c4b1"
      },
      "source": [
        "cursor.execute(\"SELECT * FROM Lessons\")\n",
        "\n",
        "cursor.fetchall()"
      ],
      "execution_count": null,
      "outputs": [
        {
          "output_type": "execute_result",
          "data": {
            "text/plain": [
              "[(1, 'Python Programlama 101', 'PY101'),\n",
              " (2, 'Python Programlama 102', 'PY102'),\n",
              " (3, 'Matematik 101', 'MAT101')]"
            ]
          },
          "metadata": {
            "tags": []
          },
          "execution_count": 50
        }
      ]
    },
    {
      "cell_type": "code",
      "metadata": {
        "id": "lOUKS994wOYU"
      },
      "source": [
        "# lecturer ekle\n",
        "cursor.execute('''\n",
        "INSERT INTO LecturerLessonRelations(UserId, LessonId)\n",
        "VALUES(3,1);\n",
        "''')\n",
        "\n",
        "cursor.execute('''\n",
        "INSERT INTO LecturerLessonRelations(UserId, LessonId)\n",
        "VALUES(4,2);\n",
        "''')\n",
        "\n",
        "cursor.execute('''\n",
        "INSERT INTO LecturerLessonRelations(UserId, LessonId)\n",
        "VALUES(5,3);\n",
        "''')\n",
        "\n",
        "baglanti.commit()"
      ],
      "execution_count": null,
      "outputs": []
    },
    {
      "cell_type": "code",
      "metadata": {
        "colab": {
          "base_uri": "https://localhost:8080/"
        },
        "id": "hMUSr94FUb5N",
        "outputId": "1a0f53a6-35d6-478a-e6e6-4bbb59d118aa"
      },
      "source": [
        "cursor.execute(\"SELECT * FROM Users WHERE Policy = 1\")\n",
        "cursor.fetchall()"
      ],
      "execution_count": null,
      "outputs": [
        {
          "output_type": "execute_result",
          "data": {
            "text/plain": [
              "[(1, 'fethitekyaygil', '123', 'Fethi', 'Tekyaygil', 1),\n",
              " (2, 'tahatekyaygil', '123', 'Taha', 'Tekyaygil', 1)]"
            ]
          },
          "metadata": {
            "tags": []
          },
          "execution_count": 53
        }
      ]
    },
    {
      "cell_type": "code",
      "metadata": {
        "id": "akDxlapux9Bn"
      },
      "source": [
        "# student ekle\n",
        "cursor.execute('''\n",
        "INSERT INTO StudentLessonRelations(UserId, LessonId)\n",
        "VALUES(1,1);\n",
        "''')\n",
        "\n",
        "cursor.execute('''\n",
        "INSERT INTO StudentLessonRelations(UserId, LessonId)\n",
        "VALUES(2,2);\n",
        "''')\n",
        "\n",
        "baglanti.commit()"
      ],
      "execution_count": null,
      "outputs": []
    },
    {
      "cell_type": "code",
      "metadata": {
        "colab": {
          "base_uri": "https://localhost:8080/"
        },
        "id": "gIx3rHgvUq8u",
        "outputId": "7b63d11b-0b25-4d82-e0a9-d5a52dd6639a"
      },
      "source": [
        "cursor.execute('''\n",
        "SELECT * FROM Users u\n",
        "JOIN StudentLessonRelations slr \n",
        "ON u.Id = slr.UserId\n",
        "''')\n",
        "\n",
        "cursor.fetchall()"
      ],
      "execution_count": null,
      "outputs": [
        {
          "output_type": "execute_result",
          "data": {
            "text/plain": [
              "[(1, 'fethitekyaygil', '123', 'Fethi', 'Tekyaygil', 1, 1, 1),\n",
              " (2, 'tahatekyaygil', '123', 'Taha', 'Tekyaygil', 1, 2, 2)]"
            ]
          },
          "metadata": {
            "tags": []
          },
          "execution_count": 55
        }
      ]
    },
    {
      "cell_type": "code",
      "metadata": {
        "colab": {
          "base_uri": "https://localhost:8080/"
        },
        "id": "Q07VfrniyXIi",
        "outputId": "5c6ec7bb-ab28-46c6-fb2f-cbc398b18c81"
      },
      "source": [
        "cursor.execute('''\n",
        "SELECT u.Name,u.Surname,l.Code, u2.Name, u2.Surname FROM Users as u \n",
        "JOIN StudentLessonRelations as s ON u.Id = s.UserId\n",
        "JOIN LecturerLessonRelations as llr ON llr.LessonId=s.LessonId\n",
        "JOIN Lessons l ON l.Id=s.LessonId\n",
        "JOIN Users as u2 ON llr.UserId = u2.Id\n",
        "''')\n",
        "\n",
        "cursor.fetchall()"
      ],
      "execution_count": null,
      "outputs": [
        {
          "output_type": "execute_result",
          "data": {
            "text/plain": [
              "[('Fethi', 'Tekyaygil', 'PY101', 'Hıdır', 'Sevinç'),\n",
              " ('Taha', 'Tekyaygil', 'PY102', 'Yeşim', 'Çalık')]"
            ]
          },
          "metadata": {
            "tags": []
          },
          "execution_count": 80
        }
      ]
    },
    {
      "cell_type": "code",
      "metadata": {
        "colab": {
          "base_uri": "https://localhost:8080/"
        },
        "id": "09Jn9cmEWkeM",
        "outputId": "d540f199-d8e5-49a6-edb8-84bc588b9b0f"
      },
      "source": [
        "cursor.execute(\"SELECT * FROM Users WHERE Name = 'Hıdır'\")\n",
        "print(cursor.fetchall())\n",
        "\n",
        "cursor.execute(\"SELECT * FROM Lessons WHERE Code = 'PY101'\")\n",
        "print(cursor.fetchall())\n",
        "\n",
        "\n",
        "cursor.execute(\"SELECT * FROM LecturerLessonRelations WHERE UserId = 3\")\n",
        "print(cursor.fetchall())"
      ],
      "execution_count": null,
      "outputs": [
        {
          "output_type": "stream",
          "text": [
            "[(3, 'hıdırsevinc', '123', 'Hıdır', 'Sevinç', 0)]\n",
            "[(1, 'Python Programlama 101', 'PY101')]\n",
            "[(3, 1)]\n"
          ],
          "name": "stdout"
        }
      ]
    },
    {
      "cell_type": "code",
      "metadata": {
        "colab": {
          "base_uri": "https://localhost:8080/"
        },
        "id": "ItdgTHlhXNU5",
        "outputId": "375ab170-3466-4848-e8ab-3d5be0648692"
      },
      "source": [
        "cursor.execute('''\n",
        "SELECT u.Name, u.Surname,l.Code FROM Users u \n",
        "JOIN LecturerLessonRelations llr ON u.Id = llr.UserId\n",
        "JOIN Lessons l ON l.Id = llr.LessonId WHERE u.Id=3''')\n",
        "\n",
        "cursor.fetchall()"
      ],
      "execution_count": null,
      "outputs": [
        {
          "output_type": "execute_result",
          "data": {
            "text/plain": [
              "[('Hıdır', 'Sevinç', 'PY101')]"
            ]
          },
          "metadata": {
            "tags": []
          },
          "execution_count": 78
        }
      ]
    },
    {
      "cell_type": "code",
      "metadata": {
        "colab": {
          "base_uri": "https://localhost:8080/"
        },
        "id": "9GwFzKS7143Q",
        "outputId": "47939d55-20fd-4172-bf3e-7740f53a0572"
      },
      "source": [
        "cursor.execute('''\n",
        "SELECT * FROM Users as u\n",
        "JOIN LecturerLessonRelations as llr\n",
        "ON u.Id = llr.UserId\n",
        "JOIN Lessons as l\n",
        "ON llr.LessonId = L.Id\n",
        "''')\n",
        "\n",
        "cursor.fetchall()"
      ],
      "execution_count": null,
      "outputs": [
        {
          "output_type": "execute_result",
          "data": {
            "text/plain": [
              "[('Hıdır', 'Sevinç', 'Python Programlama 101'),\n",
              " ('Yeşim', 'Çalık', 'Python Programlama 102'),\n",
              " ('Sefer', 'Kurnaz', 'Matematik 101')]"
            ]
          },
          "metadata": {
            "tags": []
          },
          "execution_count": 60
        }
      ]
    },
    {
      "cell_type": "code",
      "metadata": {
        "colab": {
          "base_uri": "https://localhost:8080/",
          "height": 74
        },
        "id": "bwiibnum2g1o",
        "outputId": "58cfae87-636f-44fb-dd10-b87dcff96c16"
      },
      "source": [
        "cursor.execute('''\n",
        "SELECT u.Name,u.Surname,l.Name FROM Users as u\n",
        "JOIN LecturerLessonRelations as llr\n",
        "ON u.Id = llr.UserId\n",
        "JOIN Lessons as l\n",
        "ON llr.LessonId = L.Id\n",
        "''')\n",
        "\n",
        "print(cursor.fetchall())\n",
        "\"\"\"\n",
        "print(cursor.fetchone())\n",
        "print(cursor.fetchone())\n",
        "\"\"\""
      ],
      "execution_count": null,
      "outputs": [
        {
          "output_type": "stream",
          "text": [
            "[('Hıdır', 'Sevinç', 'Python Programlama 101'), ('Yeşim', 'Çalık', 'Python Programlama 102'), ('Sefer', 'Kurnaz', 'Matematik 101')]\n"
          ],
          "name": "stdout"
        },
        {
          "output_type": "execute_result",
          "data": {
            "application/vnd.google.colaboratory.intrinsic+json": {
              "type": "string"
            },
            "text/plain": [
              "'\\nprint(cursor.fetchone())\\nprint(cursor.fetchone())\\n'"
            ]
          },
          "metadata": {
            "tags": []
          },
          "execution_count": 82
        }
      ]
    },
    {
      "cell_type": "code",
      "metadata": {
        "colab": {
          "base_uri": "https://localhost:8080/"
        },
        "id": "V21ErzI2cH7z",
        "outputId": "6d7a3b1d-ff4c-48f4-a193-f430b27afd06"
      },
      "source": [
        "cursor.execute('''\n",
        "SELECT u.Name,u.Surname,l.Name FROM Users as u\n",
        "JOIN LecturerLessonRelations as llr\n",
        "ON u.Id = llr.UserId\n",
        "JOIN Lessons as l\n",
        "ON llr.LessonId = L.Id\n",
        "''')\n",
        "\n",
        "print(cursor.fetchone())\n",
        "print(cursor.fetchone())"
      ],
      "execution_count": null,
      "outputs": [
        {
          "output_type": "stream",
          "text": [
            "('Hıdır', 'Sevinç', 'Python Programlama 101')\n",
            "('Yeşim', 'Çalık', 'Python Programlama 102')\n"
          ],
          "name": "stdout"
        }
      ]
    },
    {
      "cell_type": "code",
      "metadata": {
        "colab": {
          "base_uri": "https://localhost:8080/"
        },
        "id": "iX7LfSSFcYlr",
        "outputId": "bda3488f-facc-42d1-a20d-d6ef44a01338"
      },
      "source": [
        "cursor.execute('''\n",
        "SELECT u.Name,u.Surname,l.Name FROM Users as u\n",
        "JOIN LecturerLessonRelations as llr\n",
        "ON u.Id = llr.UserId\n",
        "JOIN Lessons as l\n",
        "ON llr.LessonId = L.Id\n",
        "''')\n",
        "\n",
        "print(cursor.fetchmany(1))"
      ],
      "execution_count": null,
      "outputs": [
        {
          "output_type": "stream",
          "text": [
            "[('Hıdır', 'Sevinç', 'Python Programlama 101')]\n"
          ],
          "name": "stdout"
        }
      ]
    },
    {
      "cell_type": "code",
      "metadata": {
        "id": "UxAvIYL4A4E6"
      },
      "source": [
        "cursor.execute('''\n",
        "SELECT * FROM Users\n",
        "''')\n",
        "print(cursor.fetchmany(2))"
      ],
      "execution_count": null,
      "outputs": []
    },
    {
      "cell_type": "code",
      "metadata": {
        "colab": {
          "base_uri": "https://localhost:8080/"
        },
        "id": "xLGmgLE9BaS1",
        "outputId": "1c43b553-db5b-481e-b99a-109686fc6f8d"
      },
      "source": [
        "cursor.execute('''\n",
        "SELECT * FROM Users\n",
        "''')\n",
        "\n",
        "for record in cursor:\n",
        "  print(record)"
      ],
      "execution_count": null,
      "outputs": [
        {
          "output_type": "stream",
          "text": [
            "(1, 'fethitekyaygil', '123', 'Fethi', 'Tekyaygil', 1)\n",
            "(2, 'tahatekyaygil', '123', 'Taha', 'Tekyaygil', 1)\n",
            "(3, 'hıdırsevinc', '123', 'Hıdır', 'Sevinç', 0)\n",
            "(4, 'yesimcalik', '123', 'Yeşim', 'Çalık', 0)\n",
            "(5, 'seferkurnaz', '123', 'Sefer', 'Kurnaz', 0)\n"
          ],
          "name": "stdout"
        }
      ]
    },
    {
      "cell_type": "code",
      "metadata": {
        "colab": {
          "base_uri": "https://localhost:8080/"
        },
        "id": "uCbRXhvdBdf3",
        "outputId": "ad31807e-0190-4d01-f23c-2aa644cd2395"
      },
      "source": [
        "username = input(\"Please your username: \")\n",
        "password = input(\"Please your password: \")\n",
        "\n",
        "cursor.execute('''\n",
        "  SELECT * FROM Users WHERE username = ? AND password = ?\n",
        "''',(username,password))\n",
        "\n",
        "cursor.fetchall()"
      ],
      "execution_count": null,
      "outputs": [
        {
          "output_type": "stream",
          "text": [
            "Please your username: desdes\n",
            "Please your password: 1231234\n"
          ],
          "name": "stdout"
        },
        {
          "output_type": "execute_result",
          "data": {
            "text/plain": [
              "[]"
            ]
          },
          "metadata": {
            "tags": []
          },
          "execution_count": 93
        }
      ]
    }
  ]
}